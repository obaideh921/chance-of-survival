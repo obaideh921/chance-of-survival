{
 "cells": [
  {
   "cell_type": "markdown",
   "metadata": {},
   "source": [
    "<h1 style='text-align:center'>Titanic.</h1>\n",
    "<br>\n",
    "\n",
    "![](http://media.giphy.com/media/1Nk9bIidJVTy0/giphy.gif)\n",
    "\n",
    "**Titanic** is one of the most infamous shipwrecks in history.  On April 15, 1912, during her maiden voyage, the **Titanic** sank after colliding with an iceberg, killing *1502* out of *2224* passengers and crew. This sensational tragedy shocked the international community and led to better safety regulations for ships.<br><br>\n",
    "\n",
    "**What particularly we need do in this challange ?**\n",
    "\n",
    "In this challenge, we need to complete the analysis of what sorts of people were likely to survive. In particular,  we apply the tools of machine learning to predict which passengers survived the tragedy?.\n"
   ]
  },
  {
   "cell_type": "markdown",
   "metadata": {},
   "source": [
    "### Importing the data"
   ]
  },
  {
   "cell_type": "code",
   "execution_count": null,
   "metadata": {},
   "outputs": [],
   "source": [
    "import pandas as pd\n",
    "import numpy as np\n",
    "from sklearn.model_selection import train_test_split,GridSearchCV\n",
    "from sklearn.tree import DecisionTreeRegressor,DecisionTreeClassifier\n",
    "import matplotlib.pyplot as plt\n",
    "import seaborn as sns\n",
    "%matplotlib inline\n",
    "#import train and test data.\n",
    "train=pd.read_csv('train.csv')\n",
    "test=pd.read_csv('test.csv')\n",
    "name=train.Name\n",
    "train.head()"
   ]
  },
  {
   "cell_type": "markdown",
   "metadata": {},
   "source": [
    "<h3>What does this data set mean.</h3>\n",
    "____"
   ]
  },
  {
   "cell_type": "markdown",
   "metadata": {},
   "source": [
    "The data has been split into two groups:\n",
    "- training set (train.csv)\n",
    "- test set(test.csv)\n",
    "<br>\n",
    "\n",
    "The training set includes passengers survival status(also know as the ground truth from the titanic tragedy) which along with other features like gender, class, fare and pclass is used to create machine learning model.\n",
    "<br><br>\n",
    "The test set should be used to see how well my model performs on unseen data. The test set does not provide passengers survival status. We are going to use our model to predict passenger survival status.\n",
    "<br><br>\n",
    "\n",
    "Lets describe whats the meaning of the features given the both train & test datasets.\n",
    "<h4>Variable Definition Key.</h4>\n",
    "- Survival\n",
    " - 0= No\n",
    " - 1= Yes\n",
    "- pclass (Ticket class)\n",
    " - 1=1st\n",
    " - 2=2nd\n",
    " - 3=3rd\n",
    " \n",
    "- sex\n",
    "<br>\n",
    "\n",
    "- age\n",
    "\n",
    "\n",
    "- sibsp (# of siblings / spouses aboard the Titanic)\n",
    "<br>\n",
    "- parch (# of parents / children aboard the Titanic)\n",
    "<br>\n",
    "- tickets\n",
    "<br>\n",
    "- fare\n",
    "<br>\n",
    "- cabin\n",
    "- embarked Port of Embarkation.\n",
    " - C = Cherbourg,\n",
    " - Q = Queenstown,\n",
    " - S = Southampton\n",
    "- pclass: A proxy for socio-economic status (SES)\n",
    "<br>\n",
    "<h4>This is important to remember and will come in handy for later analysis.</h4>\n",
    " - 1st = Upper\n",
    " - 2nd = Middle\n",
    " - 3rd = Lower\n",
    "\n"
   ]
  },
  {
   "cell_type": "markdown",
   "metadata": {},
   "source": [
    "\n",
    "\n",
    "## Part 1. Cleaning the data."
   ]
  },
  {
   "cell_type": "code",
   "execution_count": null,
   "metadata": {},
   "outputs": [],
   "source": [
    "## Lets againgtake a quick glance of what we are dealing with.\n",
    "train.head(5)"
   ]
  },
  {
   "cell_type": "markdown",
   "metadata": {},
   "source": [
    "It looks like this dataset is quite organized, however, before using this dataset for analyzing and visualizing we need to deal with ..\n",
    "- Different variables\n",
    "- Null values"
   ]
  },
  {
   "cell_type": "markdown",
   "metadata": {},
   "source": [
    "## Different variables present in the datasets.\n",
    " - **There are four type of variables**\n",
    "  - **Numerical Features**: Age, Fare, SibSp and Parch\n",
    "  - **Categorical Features**: Sex, Embarked, Survived and Pclass\n",
    "  - **Alphanumeric Features**: Ticket and Cabin(Contains both alphabets and the numeric value)\n",
    "  - **Text Features**: Name\n",
    "\n",
    "** We really need to tweak these features so we get the desired form of input data**"
   ]
  },
  {
   "cell_type": "code",
   "execution_count": null,
   "metadata": {},
   "outputs": [],
   "source": [
    "train.shape# Means 891 rows and 12 columns."
   ]
  },
  {
   "cell_type": "code",
   "execution_count": null,
   "metadata": {},
   "outputs": [],
   "source": [
    "train.isnull().sum()"
   ]
  },
  {
   "cell_type": "markdown",
   "metadata": {},
   "source": [
    "We see Age  and Cabin have a lot of missing value.So First we need to deal with all these NaN values.\n",
    "- As in Cabin column about 1\\3rd of the values are missing.So we get rid of this column. \n",
    "<br>\n",
    "\n",
    "## Why missing values treatment is required?\n",
    "Missing data in the training data set can reduce the power / fit of a model or can lead to a biased model because we have not analysed the behavior and relationship with other variables correctly. It can lead to wrong prediction or classification.\n",
    "- Here the methods to deal with missing values.\n",
    "\n",
    "### KNN Imputation. \n",
    "------\n",
    "In this method of imputation, the missing values of an attribute are imputed using the given number of attributes that are most similar to the attribute whose values are missing.\n",
    "\n",
    "For more...\n",
    "<br>\n",
    "**Method 1**\n",
    "- [KNN Imputation](https://www.analyticsvidhya.com/blog/2016/01/guide-data-exploration/)\n",
    "- [Blog](https://towardsdatascience.com/the-use-of-knn-for-missing-values-cf33d935c637)\n",
    "\n",
    "**Method 2**\n",
    "- [sklearn.preprocessing.Imputer](http://scikit-learn.org/stable/modules/generated/sklearn.preprocessing.Imputer.html)\n"
   ]
  },
  {
   "cell_type": "markdown",
   "metadata": {},
   "source": [
    "**We use the Method 2 i.e(sklearn.preprocessing.Imputer)**\n",
    "\n",
    "Just because it is easy to use....\n"
   ]
  },
  {
   "cell_type": "code",
   "execution_count": null,
   "metadata": {
    "collapsed": true
   },
   "outputs": [],
   "source": [
    "import numpy as np\n",
    "import pandas as pd\n",
    "from sklearn.preprocessing import Imputer\n",
    "Imp=Imputer(missing_values='NaN',strategy='median',axis=1)\n",
    "new=Imp.fit_transform(train.Age.values.reshape(1,-1))\n",
    "train['Age2']=new.T\n",
    "#Lets drop the old one age Column.\n"
   ]
  },
  {
   "cell_type": "code",
   "execution_count": null,
   "metadata": {
    "collapsed": true
   },
   "outputs": [],
   "source": [
    "train.drop('Age',axis=1,inplace=True)\n"
   ]
  },
  {
   "cell_type": "code",
   "execution_count": null,
   "metadata": {},
   "outputs": [],
   "source": [
    "train.isnull().sum()"
   ]
  },
  {
   "cell_type": "code",
   "execution_count": null,
   "metadata": {
    "collapsed": true
   },
   "outputs": [],
   "source": [
    "train.set_index('PassengerId',inplace=True)\n",
    "## get dummy variables for Column sex and embarked since they are categorical value.\n",
    "train = pd.get_dummies(train, columns=[\"Sex\"], drop_first=True)\n",
    "train = pd.get_dummies(train, columns=[\"Embarked\"],drop_first=True)\n",
    "\n",
    "\n",
    "#Mapping the data.\n",
    "train['Fare'] = train['Fare'].astype(int)\n",
    "train.loc[train.Fare<=7.91,'Fare']=0\n",
    "train.loc[(train.Fare>7.91) &(train.Fare<=14.454),'Fare']=1\n",
    "train.loc[(train.Fare>14.454)&(train.Fare<=31),'Fare']=2\n",
    "train.loc[(train.Fare>31),'Fare']=3\n",
    "\n",
    "train['Age2']=train['Age2'].astype(int)\n",
    "train.loc[ train['Age2'] <= 16, 'Age2']= 0\n",
    "train.loc[(train['Age2'] > 16) & (train['Age2'] <= 32), 'Age2'] = 1\n",
    "train.loc[(train['Age2'] > 32) & (train['Age2'] <= 48), 'Age2'] = 2\n",
    "train.loc[(train['Age2'] > 48) & (train['Age2'] <= 64), 'Age2'] = 3\n",
    "train.loc[train['Age2'] > 64, 'Age2'] = 4"
   ]
  },
  {
   "cell_type": "code",
   "execution_count": null,
   "metadata": {},
   "outputs": [],
   "source": [
    "# In our data the Ticket and Cabin,Name are the base less,leds to the false prediction so Drop both of them.\n",
    "train.drop(['Ticket','Cabin','Name'],axis=1,inplace=True)\n",
    "train.head()\n",
    "print(type(train.Age2))"
   ]
  },
  {
   "cell_type": "markdown",
   "metadata": {},
   "source": [
    "<h2 >Part 2.Exploratory data analysis</h2>.\n",
    "\n",
    "**Exploratory data analysis (EDA)** is an approach to analyzing data sets to summarize their main characteristics, often with visual methods.\n",
    "\n",
    "![](http://media.giphy.com/media/m3UHHYejQ4rug/giphy.gif)"
   ]
  },
  {
   "cell_type": "code",
   "execution_count": null,
   "metadata": {},
   "outputs": [],
   "source": [
    "train.shape\n",
    "# 891 rows and 9 columns."
   ]
  },
  {
   "cell_type": "code",
   "execution_count": null,
   "metadata": {},
   "outputs": [],
   "source": [
    "train.Survived.value_counts()/len(train)*100\n",
    "#This signifies almost 61% people in the ship died and 38% survived."
   ]
  },
  {
   "cell_type": "code",
   "execution_count": null,
   "metadata": {},
   "outputs": [],
   "source": [
    "train.describe()"
   ]
  },
  {
   "cell_type": "code",
   "execution_count": null,
   "metadata": {},
   "outputs": [],
   "source": [
    "train.groupby('Survived').mean()"
   ]
  },
  {
   "cell_type": "code",
   "execution_count": null,
   "metadata": {},
   "outputs": [],
   "source": [
    "train.groupby('Sex_male').mean()"
   ]
  },
  {
   "cell_type": "markdown",
   "metadata": {},
   "source": [
    "There are a couple of points that should be noted from the statistical overview. They are..\n",
    "- About the survival rate, only 38% passenger survived during that tragedy.\n",
    "- About the survival rate for genders, 74% female passengers survived, while only 19% male passengers survived."
   ]
  },
  {
   "cell_type": "markdown",
   "metadata": {
    "collapsed": true
   },
   "source": [
    "**Correlation Matrix and Heatmap**"
   ]
  },
  {
   "cell_type": "code",
   "execution_count": null,
   "metadata": {},
   "outputs": [],
   "source": [
    "train.corr()"
   ]
  },
  {
   "cell_type": "code",
   "execution_count": null,
   "metadata": {},
   "outputs": [],
   "source": [
    "plt.subplots(figsize = (15,8))\n",
    "sns.heatmap(train.corr(), annot=True,cmap=\"PiYG\")\n",
    "plt.title(\"Correlations Among Features\", fontsize = 20);"
   ]
  },
  {
   "cell_type": "markdown",
   "metadata": {},
   "source": [
    "**Positive Correlation Features:**\n",
    "- Fare and Survived: 0.26.\n",
    "\n",
    "There is a positive correlation between Fare and Survived rated. This can be explained by saying that, the passenger who paid more money for their ticket were more likely to survive. "
   ]
  },
  {
   "cell_type": "markdown",
   "metadata": {},
   "source": [
    "**Negative Correlation Features:**\n",
    "- Fare and Pclass: -0.55\n",
    " - This relationship can be explained by saying that first class passenger(1) paid more for fare then second class passenger(2), similarly second class passenger paid more than the third class passenger(3). \n",
    "- Gender and Survived: -0.54\n",
    " - Basically is the info of whether the passenger was male or female.\n",
    "- Pclass and Survived: -0.34"
   ]
  },
  {
   "cell_type": "markdown",
   "metadata": {},
   "source": [
    "**Gender and Survived**\n"
   ]
  },
  {
   "cell_type": "code",
   "execution_count": null,
   "metadata": {},
   "outputs": [],
   "source": [
    "plt.subplots(figsize = (15,8))\n",
    "sns.barplot(x = \"Sex_male\", y = \"Survived\", data=train, edgecolor=(0,0,0), linewidth=2)\n",
    "plt.title(\"Survived/Non-Survived Passenger Gender Distribution\", fontsize = 25)\n",
    "labels = ['Female', 'Male']\n",
    "plt.ylabel(\"% of passenger survived\", fontsize = 15)\n",
    "plt.xlabel(\"Gender\",fontsize = 15)\n",
    "plt.xticks(sorted(train.Sex_male.unique()), labels)\n",
    "\n",
    "# 1 is for male and 0 is for female."
   ]
  },
  {
   "cell_type": "markdown",
   "metadata": {},
   "source": [
    "This bar plot above shows the distribution of female and male survived. The x_label shows gender and the y_label shows % of passenger survived. This bar plot shows that 74% female passenger survived while only ~19% male passenger survived."
   ]
  },
  {
   "cell_type": "code",
   "execution_count": null,
   "metadata": {},
   "outputs": [],
   "source": [
    "sns.set(style='darkgrid')\n",
    "plt.subplots(figsize = (15,8))\n",
    "ax=sns.countplot(x='Sex_male',data=train,hue='Survived',edgecolor=(0,0,0),linewidth=2)\n",
    "train.shape\n",
    "## Fixing title, xlabel and ylabel\n",
    "plt.title('Passenger distribution of survived vs not-survived',fontsize=25)\n",
    "plt.xlabel('Gender',fontsize=15)\n",
    "plt.ylabel(\"# of Passenger Survived\", fontsize = 15)\n",
    "labels = ['Female', 'Male']\n",
    "#Fixing xticks.\n",
    "plt.xticks(sorted(train.Survived.unique()),labels)\n",
    "## Fixing legends\n",
    "leg = ax.get_legend()\n",
    "leg.set_title('Survived')\n",
    "legs=leg.texts\n",
    "legs[0].set_text('No')\n",
    "legs[1].set_text('Yes')\n"
   ]
  },
  {
   "cell_type": "markdown",
   "metadata": {},
   "source": [
    "This count plot shows the actual distribution of male and female passengers that survived and did not survive. It shows that among all the females ~ 230 survived and ~ 70 did not survive. While among male passengers ~110 survived and ~480 did not survive."
   ]
  },
  {
   "cell_type": "markdown",
   "metadata": {},
   "source": [
    "**Summary**\n",
    "- As we suspected, female passengers have survived at a much better rate than male passengers.\n",
    "- It seems about right since females and children were the priority."
   ]
  },
  {
   "cell_type": "markdown",
   "metadata": {},
   "source": [
    "**Pclass and Survived**"
   ]
  },
  {
   "cell_type": "code",
   "execution_count": null,
   "metadata": {},
   "outputs": [],
   "source": [
    "train.head(4)"
   ]
  },
  {
   "cell_type": "code",
   "execution_count": null,
   "metadata": {},
   "outputs": [],
   "source": [
    "plt.subplots(figsize = (10,10))\n",
    "ax=sns.countplot(x='Pclass',hue='Survived',data=train)\n",
    "plt.title(\"Passenger Class Distribution - Survived vs Non-Survived\", fontsize = 25)\n",
    "leg=ax.get_legend()\n",
    "leg.set_title('Survival')\n",
    "legs=leg.texts\n",
    "\n",
    "legs[0].set_text('No')\n",
    "legs[1].set_text(\"yes\")"
   ]
  },
  {
   "cell_type": "markdown",
   "metadata": {},
   "source": [
    "So it clearly seems that,The survival of the people belong to 3rd class is very least.\n",
    "It looks like ...\n",
    "-  63% first class passenger survived titanic tragedy, while\n",
    "-  48% second class and\n",
    "-  only 24% third class passenger survived."
   ]
  },
  {
   "cell_type": "code",
   "execution_count": null,
   "metadata": {},
   "outputs": [],
   "source": [
    "plt.subplots(figsize=(10,8))\n",
    "sns.kdeplot(train.loc[(train['Survived'] == 0),'Pclass'],shade=True,color='r',label='Not Survived')\n",
    "ax=sns.kdeplot(train.loc[(train['Survived'] == 1),'Pclass'],shade=True,color='b',label='Survived' )\n",
    "\n",
    "labels = ['First', 'Second', 'Third']\n",
    "plt.xticks(sorted(train.Pclass.unique()),labels)"
   ]
  },
  {
   "cell_type": "markdown",
   "metadata": {},
   "source": [
    "This kde plot is pretty self explanatory with all the labels and colors. Something I have noticed that some readers might find questionable is that in, the plot; the third class passengers have survived more than second class passnegers. It is true since there were a lot more third class passengers than first and second.\n",
    "\n"
   ]
  },
  {
   "cell_type": "markdown",
   "metadata": {},
   "source": [
    "**Summary**\n",
    "\n",
    "First class passenger had the upper hand during the tragedy than second and third class passengers. You can probably agree with me more on this, when we look at the distribution of ticket fare and survived column."
   ]
  },
  {
   "cell_type": "markdown",
   "metadata": {},
   "source": [
    "**Fare and Survived**"
   ]
  },
  {
   "cell_type": "code",
   "execution_count": null,
   "metadata": {},
   "outputs": [],
   "source": [
    "plt.subplots(figsize=(15,10))\n",
    "\n",
    "ax=sns.kdeplot(train.loc[(train['Survived'] == 0),'Fare'],color='r',shade=True,label='Not Survived')\n",
    "ax=sns.kdeplot(train.loc[(train['Survived'] == 1),'Fare'],color='b',shade=True,label='Survived' )\n",
    "plt.title('Fare Distribution Survived vs Non Survived',fontsize=25)\n",
    "plt.ylabel('Frequency of Passenger Survived',fontsize=20)\n",
    "plt.xlabel('Fare',fontsize=20)"
   ]
  },
  {
   "cell_type": "markdown",
   "metadata": {},
   "source": [
    "**Age and Survived**"
   ]
  },
  {
   "cell_type": "code",
   "execution_count": null,
   "metadata": {},
   "outputs": [],
   "source": [
    "#fig,axs=plt.subplots(nrows=2)\n",
    "fig,axs=plt.subplots(figsize=(10,8))\n",
    "sns.set_style(style='darkgrid')\n",
    "sns.kdeplot(train.loc[(train['Survived']==0),'Age2'],color='r',shade=True,label='Not Survived')\n",
    "sns.kdeplot(train.loc[(train['Survived']==1),'Age2'],color='b',shade=True,label='Survived')\n"
   ]
  },
  {
   "cell_type": "markdown",
   "metadata": {},
   "source": [
    "There is nothing out of the ordinary of about this plot, except the very left part of the distribution. It shows that\n",
    "\n",
    "children and infants were the priority."
   ]
  },
  {
   "cell_type": "markdown",
   "metadata": {},
   "source": [
    "**Modeling the Data**"
   ]
  },
  {
   "cell_type": "markdown",
   "metadata": {},
   "source": [
    "I will train the data with the following models:\n",
    "- Logistic Regression\n",
    "- Gaussian Naive Bayes\n",
    "- Support Vector Machines\n",
    "- Decision Tree Classifier\n",
    "- K-Nearest Neighbors(KNN)\n",
    " -  and many other....."
   ]
  },
  {
   "cell_type": "code",
   "execution_count": null,
   "metadata": {
    "collapsed": true
   },
   "outputs": [],
   "source": [
    "X=train.drop('Survived',axis=1)\n",
    "y=train['Survived'].astype(int)\n"
   ]
  },
  {
   "cell_type": "markdown",
   "metadata": {
    "collapsed": true
   },
   "source": [
    "<h2>Classifier Comparision</h2>\n",
    "\n",
    "By Classifier Comparison we choose which model best for the given data."
   ]
  },
  {
   "cell_type": "code",
   "execution_count": null,
   "metadata": {
    "collapsed": true,
    "scrolled": true
   },
   "outputs": [],
   "source": [
    "import matplotlib.pyplot as plt\n",
    "import seaborn as sns\n",
    "from sklearn.model_selection import StratifiedShuffleSplit\n",
    "from sklearn.metrics import accuracy_score, log_loss\n",
    "from sklearn.neighbors import KNeighborsClassifier\n",
    "from sklearn.svm import SVC\n",
    "from sklearn.tree import DecisionTreeClassifier\n",
    "from sklearn.ensemble import RandomForestClassifier,AdaBoostClassifier,GradientBoostingClassifier\n",
    "from sklearn.naive_bayes import GaussianNB\n",
    "from sklearn.linear_model import LogisticRegression\n",
    "from sklearn.discriminant_analysis import LinearDiscriminantAnalysis, QuadraticDiscriminantAnalysis \n",
    "from xgboost import XGBClassifier\n",
    "\n",
    "classifiers = [\n",
    "    KNeighborsClassifier(3),\n",
    "    SVC(probability=True),\n",
    "    DecisionTreeClassifier(),\n",
    "    XGBClassifier(),\n",
    "    RandomForestClassifier(n_estimators=100, max_features=3),\n",
    "    AdaBoostClassifier(),\n",
    "    GradientBoostingClassifier(),\n",
    "    GaussianNB(),\n",
    "    LinearDiscriminantAnalysis(),\n",
    "    QuadraticDiscriminantAnalysis(),\n",
    "    LogisticRegression()]\n",
    "    \n",
    "\n",
    "\n",
    "log_cols = [\"Classifier\", \"Accuracy\"]\n",
    "log= pd.DataFrame(columns=log_cols)\n"
   ]
  },
  {
   "cell_type": "code",
   "execution_count": null,
   "metadata": {
    "collapsed": true
   },
   "outputs": [],
   "source": [
    "from sklearn.metrics import accuracy_score\n",
    "from sklearn.model_selection import train_test_split\n",
    "\n",
    "sss = StratifiedShuffleSplit(n_splits=10, test_size=0.3, random_state=0)\n",
    "acc_dict = {}\n",
    "\n",
    "for train_index, test_index in sss.split(X, y):\n",
    "    \n",
    "    X_train, X_test = X.iloc[train_index], X.iloc[test_index]\n",
    "    y_train, y_test = y.iloc[train_index], y.iloc[test_index]\n",
    "    \n",
    "    for clf in classifiers:\n",
    "        name = clf.__class__.__name__\n",
    "    \n",
    "        clf.fit(X_train,y_train)\n",
    "        predict=clf.predict(X_test)\n",
    "        acc=accuracy_score(y_test,predict)\n",
    "        if name in acc_dict:\n",
    "            acc_dict[name]+=acc\n",
    "        else:\n",
    "            acc_dict[name]=acc"
   ]
  },
  {
   "cell_type": "code",
   "execution_count": null,
   "metadata": {},
   "outputs": [],
   "source": [
    "log['Classifier']=acc_dict.keys()\n",
    "log['Accuracy']=acc_dict.values()\n",
    "log.set_index([[0,1,2,3,4,5,6,7,8,9,10]])\n",
    "%matplotlib inline\n",
    "sns.set_color_codes(\"muted\")\n",
    "ax=plt.subplots(figsize=(10,8))\n",
    "ax=sns.barplot(y='Classifier',x='Accuracy',data=log,color='b')\n",
    "ax.set_xlabel('Accuracy',fontsize=20)\n",
    "plt.ylabel('Classifier',fontsize=20)\n",
    "plt.grid(color='r', linestyle='-', linewidth=0.5)\n",
    "plt.title('Classifier Accuracy',fontsize=20)\n"
   ]
  },
  {
   "cell_type": "markdown",
   "metadata": {
    "collapsed": true
   },
   "source": [
    "From the above barplot, we can clearly see that the accuracy of the SVC classifier is best out of all other classifiers..\n",
    "\n",
    "Lets apply this to our test data."
   ]
  },
  {
   "cell_type": "markdown",
   "metadata": {},
   "source": [
    "<h2>Prediction</h2>\n",
    "\n",
    "Lets use the SVC classifier to predict our data."
   ]
  },
  {
   "cell_type": "code",
   "execution_count": null,
   "metadata": {},
   "outputs": [],
   "source": [
    "train.head()"
   ]
  },
  {
   "cell_type": "code",
   "execution_count": null,
   "metadata": {},
   "outputs": [],
   "source": [
    "classifier=SVC()\n",
    "xtrain=train.iloc[:,1:]\n",
    "ytrain=train.iloc[:,:1]\n",
    "ytrain=ytrain.values.ravel()\n",
    "classifier.fit(xtrain,ytrain)\n",
    "#we need to convert the test data "
   ]
  },
  {
   "cell_type": "code",
   "execution_count": null,
   "metadata": {
    "collapsed": true
   },
   "outputs": [],
   "source": [
    "testIm=Imputer(missing_values='NaN',strategy='most_frequent',axis=1)\n",
    "Age1=testIm.fit_transform(test.Age.values.reshape(1,-1))\n",
    "Fare2=testIm.fit_transform(test.Fare.values.reshape(1,-1))\n",
    "test.drop(['Name','Cabin','Age','Ticket','Fare'],axis=1,inplace=True)\n",
    "test['Age1']=Age1.T\n",
    "test['Fare2']=Fare2.T\n",
    "test.set_index('PassengerId',inplace=True)\n",
    "#test[test.Fare.isnull()]#this will tell us which row have null so we can drop that particular row.\n",
    "#test.drop([1044],axis=0,inplace=True)#drop the row which NaN .\n",
    "#test.isnull().sum()"
   ]
  },
  {
   "cell_type": "code",
   "execution_count": null,
   "metadata": {
    "collapsed": true
   },
   "outputs": [],
   "source": [
    "## get dummy variables for Column sex and embarked since they are categorical value.\n",
    "test = pd.get_dummies(test, columns=[\"Sex\"], drop_first=True)\n",
    "test = pd.get_dummies(test, columns=[\"Embarked\"],drop_first=True)\n",
    "\n",
    "\n",
    "#Mapping the data.\n",
    "test['Fare2'] = test['Fare2'].astype(int)\n",
    "test.loc[test.Fare2<=7.91,'Fare2']=0\n",
    "test.loc[(test.Fare2>7.91) &(test.Fare2<=14.454),'Fare2']=1\n",
    "test.loc[(test.Fare2>14.454)&(test.Fare2<=31),'Fare2']=2\n",
    "test.loc[(test.Fare2>31),'Fare2']=3\n",
    "\n",
    "test['Age1']=test['Age1'].astype(int)\n",
    "test.loc[ test['Age1'] <= 16, 'Age1']= 0\n",
    "test.loc[(test['Age1'] > 16) & (test['Age1'] <= 32), 'Age1'] = 1\n",
    "test.loc[(test['Age1'] > 32) & (test['Age1'] <= 48), 'Age1'] = 2\n",
    "test.loc[(test['Age1'] > 48) & (test['Age1'] <= 64), 'Age1'] = 3\n",
    "test.loc[test['Age1'] > 64, 'Age1'] = 4"
   ]
  },
  {
   "cell_type": "markdown",
   "metadata": {},
   "source": [
    "<h2>Result</h2>\n",
    "\n",
    "The final result is"
   ]
  },
  {
   "cell_type": "code",
   "execution_count": null,
   "metadata": {},
   "outputs": [],
   "source": [
    "Result=classifier.predict(test)\n",
    "print(Result)\n",
    "print(len(Result))"
   ]
  },
  {
   "cell_type": "markdown",
   "metadata": {},
   "source": [
    "**This kernal is still under  process for further imporvement.**\n",
    "\n",
    "I will always incorporate new concepts of data science as I master them. This journey of learning is worth sharing as well as collaborating. Therefore any comments about further improvements would be genuinely appreciated."
   ]
  },
  {
   "cell_type": "markdown",
   "metadata": {},
   "source": [
    "**Hope you find it useful.** \n",
    "\n",
    "**If this notebook helped you in anyway, please do upvote!**\n"
   ]
  },
  {
   "cell_type": "code",
   "execution_count": null,
   "metadata": {
    "collapsed": true
   },
   "outputs": [],
   "source": []
  },
  {
   "cell_type": "code",
   "execution_count": null,
   "metadata": {
    "collapsed": true
   },
   "outputs": [],
   "source": []
  }
 ],
 "metadata": {
  "kernelspec": {
   "display_name": "Python 3",
   "language": "python",
   "name": "python3"
  },
  "language_info": {
   "codemirror_mode": {
    "name": "ipython",
    "version": 3
   },
   "file_extension": ".py",
   "mimetype": "text/x-python",
   "name": "python",
   "nbconvert_exporter": "python",
   "pygments_lexer": "ipython3",
   "version": "3.6.2"
  }
 },
 "nbformat": 4,
 "nbformat_minor": 2
}
